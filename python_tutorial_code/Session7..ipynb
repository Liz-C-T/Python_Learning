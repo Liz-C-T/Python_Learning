{
 "cells": [
  {
   "cell_type": "code",
   "execution_count": 3,
   "metadata": {},
   "outputs": [
    {
     "name": "stdout",
     "output_type": "stream",
     "text": [
      "1\n",
      "2\n",
      "3\n",
      "4\n",
      "5\n",
      "6\n",
      "7\n",
      "8\n",
      "9\n",
      "10\n"
     ]
    }
   ],
   "source": [
    "numbers =list(range(1,11))\n",
    "for i in numbers: \n",
    "    print (i)\n",
    "\n"
   ]
  },
  {
   "cell_type": "code",
   "execution_count": 20,
   "metadata": {},
   "outputs": [
    {
     "name": "stdout",
     "output_type": "stream",
     "text": [
      "Amy\n",
      "Hello, my name is Barry.\n"
     ]
    }
   ],
   "source": [
    "names_list = ['Amy', 'Bob', 'Mandy', 'Lynn', 'Barry']\n",
    "for name in names_list: \n",
    "    if name =='Lynn':\n",
    "         print('Amy')\n",
    "    phrase = f'Hello, my name is {name}.'\n",
    "print(phrase)"
   ]
  },
  {
   "cell_type": "code",
   "execution_count": 23,
   "metadata": {},
   "outputs": [
    {
     "ename": "SyntaxError",
     "evalue": "invalid syntax (4178569220.py, line 1)",
     "output_type": "error",
     "traceback": [
      "\u001b[0;36m  Cell \u001b[0;32mIn[23], line 1\u001b[0;36m\u001b[0m\n\u001b[0;31m    for tuple_i enumerate(names_list):\u001b[0m\n\u001b[0m                ^\u001b[0m\n\u001b[0;31mSyntaxError\u001b[0m\u001b[0;31m:\u001b[0m invalid syntax\n"
     ]
    }
   ],
   "source": [
    "for tuple_i enumerate(names_list):\n",
    "    print (tuple_i)"
   ]
  },
  {
   "cell_type": "code",
   "execution_count": 6,
   "metadata": {},
   "outputs": [
    {
     "name": "stdout",
     "output_type": "stream",
     "text": [
      "dict_keys(['Lynn', 'Barry', 'Sally', 'Nic', 'Sam'])\n",
      "dict_items([('Lynn', 'Vet'), ('Barry', 'Nurse'), ('Sally', 'Teacher'), ('Nic', 'Lorry Drive'), ('Sam', 'Retired')])\n",
      "{\"Hi, Im {k}, and I'm a {v}.\"}\n",
      "{\"Hi, Im {k}, and I'm a {v}.\"}\n"
     ]
    }
   ],
   "source": [
    "Name_job = {'Lynn': 'Vet',\n",
    "        'Barry':'Nurse',\n",
    "        'Sally': 'Teacher',\n",
    "        'Nic': 'Lorry Drive',\n",
    "        'Sam': 'Retired'}\n",
    "print (Name_job.keys())\n",
    "print (Name_job.items())\n",
    "for k, v in Name_job.items(): \n",
    "    if (k =='Lynn') | (k == 'Barry'):\n",
    "        print ({\"Hi, Im {k}, and I'm a {v}.\"})"
   ]
  },
  {
   "cell_type": "code",
   "execution_count": 7,
   "metadata": {},
   "outputs": [
    {
     "ename": "AttributeError",
     "evalue": "'dict' object has no attribute 'append'",
     "output_type": "error",
     "traceback": [
      "\u001b[0;31m---------------------------------------------------------------------------\u001b[0m",
      "\u001b[0;31mAttributeError\u001b[0m                            Traceback (most recent call last)",
      "Cell \u001b[0;32mIn[7], line 9\u001b[0m\n\u001b[1;32m      7\u001b[0m     \u001b[38;5;28;01mfor\u001b[39;00m j \u001b[38;5;129;01min\u001b[39;00m bread:\n\u001b[1;32m      8\u001b[0m         combination: \u001b[38;5;124mf\u001b[39m\u001b[38;5;124m'\u001b[39m\u001b[38;5;132;01m{\u001b[39;00mi\u001b[38;5;132;01m}\u001b[39;00m\u001b[38;5;124m and \u001b[39m\u001b[38;5;132;01m{\u001b[39;00mj\u001b[38;5;132;01m}\u001b[39;00m\u001b[38;5;124m'\u001b[39m\n\u001b[0;32m----> 9\u001b[0m         \u001b[43mcombos\u001b[49m\u001b[38;5;241;43m.\u001b[39;49m\u001b[43mappend\u001b[49m(combination)\n\u001b[1;32m     11\u001b[0m \u001b[38;5;28mprint\u001b[39m (combos)\n",
      "\u001b[0;31mAttributeError\u001b[0m: 'dict' object has no attribute 'append'"
     ]
    }
   ],
   "source": [
    "filling = ['ham and cheese', 'ploughmans', 'Cheese and onion']\n",
    "bread = ['baguette', 'bun', 'ciabatta']\n",
    "\n",
    "combos = {}\n",
    "\n",
    "for i in filling:\n",
    "    for j in bread:\n",
    "        combination: f'{i} and {j}'\n",
    "        combos.append(combination)\n",
    "\n",
    "print (combos)"
   ]
  },
  {
   "cell_type": "code",
   "execution_count": 10,
   "metadata": {},
   "outputs": [
    {
     "ename": "SyntaxError",
     "evalue": "invalid character '“' (U+201C) (210664504.py, line 13)",
     "output_type": "error",
     "traceback": [
      "\u001b[0;36m  Cell \u001b[0;32mIn[10], line 13\u001b[0;36m\u001b[0m\n\u001b[0;31m    string = “ ”\u001b[0m\n\u001b[0m             ^\u001b[0m\n\u001b[0;31mSyntaxError\u001b[0m\u001b[0;31m:\u001b[0m invalid character '“' (U+201C)\n"
     ]
    }
   ],
   "source": [
    "if num % 3 == 0:\n",
    "        print('Fizz')\n",
    "for num in range(1,101):\n",
    "    string = \"\"\n",
    "    if num % 3 == 0:\n",
    "        string = string + \"Fizz\"\n",
    "    if num % 4 == 0:\n",
    "        string = string + \"Buzz\"\n",
    "    if num % 4 != 0 and num % 3 != 0:\n",
    "        string = string + str(num)\n",
    "    print(string)\n",
    "for num in range(1,21):\n",
    " string = “ ”\n",
    " if num % 3 == 0:\n",
    " string = string + “Fizz”\n",
    " if num % 5 == 0:\n",
    " string = string + “Buzz”\n",
    " if num % 5 != 0 and num % 3 != 0:\n",
    " string = string + str(num)\n",
    " print(string)\n",
    "import itertools as its\n",
    "def fizz_buzz(n):\n",
    "    fizzes = its.cycle([\"\"] * 2 + [\"Fizz\"])\n",
    "    buzzes = its.cycle([\"\"] * 4 + [\"Buzz\"])\n",
    "    fizzes_buzzes = (fizz + buzz for fizz, buzz in zip(fizzes, buzzes))\n",
    "    result = (word or n for word, n in zip(fizzes_buzzes, its.count(1)))\n",
    "    for i in its.islice(result, 100):\n",
    "        print(i)"
   ]
  },
  {
   "cell_type": "code",
   "execution_count": 11,
   "metadata": {},
   "outputs": [
    {
     "name": "stdout",
     "output_type": "stream",
     "text": [
      "From 1 to 10\n",
      "1\n",
      "2\n",
      "Fizz\n",
      "4\n",
      "Buzz\n",
      "Fizz\n",
      "7\n",
      "8\n",
      "Fizz\n",
      "Buzz\n",
      "\n",
      "From 50 to 75\n",
      "Buzz\n",
      "Fizz\n",
      "52\n",
      "53\n",
      "Fizz\n",
      "Buzz\n",
      "56\n",
      "Fizz\n",
      "58\n",
      "59\n",
      "FizzBuzz\n",
      "61\n",
      "62\n",
      "Fizz\n",
      "64\n",
      "Buzz\n",
      "Fizz\n",
      "67\n",
      "68\n",
      "Fizz\n",
      "Buzz\n",
      "71\n",
      "Fizz\n",
      "73\n",
      "74\n",
      "FizzBuzz\n"
     ]
    }
   ],
   "source": [
    "def fizz_buzz(start, end):\n",
    "    \"\"\"\n",
    "    Print 'Fizz', 'Buzz', or 'FizzBuzz' for numbers in the specified range based on divisibility rules.\n",
    "    \n",
    "    Parameters:\n",
    "    start (int): The starting number of the range.\n",
    "    end (int): The ending number of the range.\n",
    "    \"\"\"\n",
    "    if start > end:\n",
    "        print(\"Start should be less than or equal to end.\")\n",
    "        return\n",
    "\n",
    "    for fizzbuzz in range(start, end + 1):\n",
    "        if fizzbuzz % 3 == 0 and fizzbuzz % 5 == 0:\n",
    "            print(\"FizzBuzz\")\n",
    "        elif fizzbuzz % 3 == 0:\n",
    "            print(\"Fizz\")\n",
    "        elif fizzbuzz % 5 == 0:\n",
    "            print(\"Buzz\")\n",
    "        else:\n",
    "            print(fizzbuzz)\n",
    "\n",
    "# Example usage\n",
    "print(\"From 1 to 10\")\n",
    "fizz_buzz(1, 10)\n",
    "print(\"\\nFrom 50 to 75\")\n",
    "fizz_buzz(50, 75)\n"
   ]
  }
 ],
 "metadata": {
  "kernelspec": {
   "display_name": "Python 3",
   "language": "python",
   "name": "python3"
  },
  "language_info": {
   "codemirror_mode": {
    "name": "ipython",
    "version": 3
   },
   "file_extension": ".py",
   "mimetype": "text/x-python",
   "name": "python",
   "nbconvert_exporter": "python",
   "pygments_lexer": "ipython3",
   "version": "3.10.13"
  }
 },
 "nbformat": 4,
 "nbformat_minor": 2
}
