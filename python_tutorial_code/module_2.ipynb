{
 "cells": [
  {
   "cell_type": "code",
   "execution_count": 13,
   "metadata": {},
   "outputs": [
    {
     "ename": "KeyError",
     "evalue": "3",
     "output_type": "error",
     "traceback": [
      "\u001b[0;31m---------------------------------------------------------------------------\u001b[0m",
      "\u001b[0;31mKeyError\u001b[0m                                  Traceback (most recent call last)",
      "Cell \u001b[0;32mIn[13], line 4\u001b[0m\n\u001b[1;32m      1\u001b[0m num_1 \u001b[38;5;241m=\u001b[39m \u001b[38;5;241m3\u001b[39m\n\u001b[1;32m      2\u001b[0m string_1 \u001b[38;5;241m=\u001b[39m {\u001b[38;5;124m\"\u001b[39m\u001b[38;5;124mI have a number\u001b[39m\u001b[38;5;124m\"\u001b[39m: {num_1}}\n\u001b[0;32m----> 4\u001b[0m substring \u001b[38;5;241m=\u001b[39m\u001b[43mstring_1\u001b[49m\u001b[43m[\u001b[49m\u001b[38;5;241;43m3\u001b[39;49m\u001b[43m]\u001b[49m\n\u001b[1;32m      5\u001b[0m \u001b[38;5;28mprint\u001b[39m (string_1)\n",
      "\u001b[0;31mKeyError\u001b[0m: 3"
     ]
    }
   ],
   "source": [
    "num_1 = 3\n",
    "string_1 = {\"I have a number\": {num_1}}\n",
    "\n",
    "substring =string_1[3]\n",
    "print (string_1)\n"
   ]
  },
  {
   "cell_type": "code",
   "execution_count": 9,
   "metadata": {},
   "outputs": [
    {
     "name": "stdout",
     "output_type": "stream",
     "text": [
      "26\n"
     ]
    }
   ],
   "source": [
    "# dict_! = {key:value, key:value}\n",
    "lizzie ={\"Name\": \"Lizzie\", \"Age\":26,\n",
    "        \"Pets\": \"1\", \"Food\":\"food\", \"Sport\": \"Tennis\", \"Colours\": \"Green\"}\n",
    "print(lizzie[\"Age\"])"
   ]
  },
  {
   "cell_type": "code",
   "execution_count": 8,
   "metadata": {},
   "outputs": [
    {
     "name": "stdout",
     "output_type": "stream",
     "text": [
      "<class 'list'>\n",
      "salsa\n",
      "['tacos', 'burritos', 'salsa', 'guacamole']\n",
      "['tacos', 'burritos', 'salsa', 'guacamole', ['enchilladas', 'Chips']]\n",
      "['tacos', 'burritos', 'salsa', 'guacamole', ['enchilladas', 'Chips'], 'enchilladas', 'Chips']\n",
      "['tacos', 'burritos', 'salsa', 'guacamole', ['enchilladas', 'Chips'], 'enchilladas', 'Chips', 's', 'o', 'u', 'r', ' ', 'c', 'r', 'e', 'a', 'm']\n",
      "['tacos', 'burritos', 'salsa', 'guacamole', ['enchilladas', 'Chips'], 'enchilladas', 'Chips', 's', 'o', 'u', 'r', ' ', 'c', 'r', 'e', 'a', 'm']\n"
     ]
    }
   ],
   "source": [
    "list_1 = []\n",
    "print(type(list_1))\n",
    " \n",
    "food= [\"tacos\", \"burritos\", \"salsa\"]\n",
    "print(food[-1])\n",
    " \n",
    "food.append(\"guacamole\")\n",
    "print(food)\n",
    " \n",
    "extra_food = [\"enchilladas\", \"Chips\"]\n",
    "food.append(extra_food)\n",
    "print(food)\n",
    " \n",
    "food.extend(extra_food)\n",
    "print(food)\n",
    " \n",
    "food.extend(\"sour cream\")\n",
    "print(food)\n",
    " \n",
    "#colours.extend([\"purple\", \"purple\", \"purple\"])\n",
    "\n",
    " \n",
    "#colours.remove(\"purple\")\n",
    "\n",
    " \n",
    "#colours.remove(\"purple\")\n",
    "print(food)"
   ]
  },
  {
   "cell_type": "code",
   "execution_count": 17,
   "metadata": {},
   "outputs": [
    {
     "name": "stdout",
     "output_type": "stream",
     "text": [
      "A\n",
      "dict_keys(['Lizzie', 'Amanda', 'Aid'])\n",
      "dict_values(['Apprentice Performance Officer', 'Senior Performance Officer', 'Principal Performance Officer'])\n",
      "Manager\n"
     ]
    }
   ],
   "source": [
    "jobs = {\"Lizzie\": \"Apprentice Performance Officer\", \"Amanda\":\"Senior Performance Officer\", \"Aid\":\"Principal Performance Officer\"}\n",
    "print(jobs[\"Lizzie\"][0])\n",
    "print(jobs.keys())\n",
    "print(jobs.values())\n",
    "jobs [\"Liam\"] = \"Manager\"\n",
    "print(jobs[\"Liam\"])"
   ]
  }
 ],
 "metadata": {
  "kernelspec": {
   "display_name": "Python 3",
   "language": "python",
   "name": "python3"
  },
  "language_info": {
   "codemirror_mode": {
    "name": "ipython",
    "version": 3
   },
   "file_extension": ".py",
   "mimetype": "text/x-python",
   "name": "python",
   "nbconvert_exporter": "python",
   "pygments_lexer": "ipython3",
   "version": "3.10.13"
  }
 },
 "nbformat": 4,
 "nbformat_minor": 2
}
