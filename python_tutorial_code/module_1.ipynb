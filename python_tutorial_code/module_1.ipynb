{
 "cells": [
  {
   "cell_type": "code",
   "execution_count": 1,
   "metadata": {},
   "outputs": [
    {
     "name": "stdout",
     "output_type": "stream",
     "text": [
      "3\n"
     ]
    }
   ],
   "source": [
    "x = 1\n",
    "y = 2\n",
    "z = x + y\n",
    "print (z)"
   ]
  },
  {
   "cell_type": "code",
   "execution_count": 11,
   "metadata": {},
   "outputs": [
    {
     "name": "stdout",
     "output_type": "stream",
     "text": [
      "12\n"
     ]
    }
   ],
   "source": [
    "a = 4\n",
    "b = 3\n",
    "c = a * b\n",
    "print (c)"
   ]
  },
  {
   "cell_type": "code",
   "execution_count": 8,
   "metadata": {},
   "outputs": [
    {
     "name": "stdout",
     "output_type": "stream",
     "text": [
      "12.56\n"
     ]
    }
   ],
   "source": [
    "radius = 2\n",
    "pi = 3.14\n",
    "# ** \n",
    "area = (radius ** 2) * pi \n",
    "print (area)"
   ]
  },
  {
   "cell_type": "code",
   "execution_count": 5,
   "metadata": {},
   "outputs": [
    {
     "name": "stdout",
     "output_type": "stream",
     "text": [
      "My name is Will, and I like Running.\n"
     ]
    }
   ],
   "source": [
    "Name = \"Will\"\n",
    "hobby = \"Running\"\n",
    "phrase_1 = \"My name is \" + Name + \", and I like \" + hobby + \".\"\n",
    "print (phrase_1)"
   ]
  },
  {
   "cell_type": "code",
   "execution_count": 2,
   "metadata": {},
   "outputs": [
    {
     "name": "stdout",
     "output_type": "stream",
     "text": [
      "CIN plans per year (rate per 10k)\n"
     ]
    }
   ],
   "source": [
    "value_x = \"CIN plans\"\n",
    "title = value_x +  \" per year (rate per 10k)\"\n",
    "print(title)"
   ]
  },
  {
   "cell_type": "code",
   "execution_count": 10,
   "metadata": {},
   "outputs": [
    {
     "name": "stdout",
     "output_type": "stream",
     "text": [
      "My name is Elizabeth, and I am a Apprentice performance officer.\n"
     ]
    }
   ],
   "source": [
    "Name = \"Elizabeth\"\n",
    "Job_title = \"Apprentice performance officer\"\n",
    "namejob= \"My name is \" + Name + \", and I am a \" + Job_title + \".\"\n",
    "print (namejob)"
   ]
  },
  {
   "cell_type": "code",
   "execution_count": 16,
   "metadata": {},
   "outputs": [
    {
     "name": "stdout",
     "output_type": "stream",
     "text": [
      "987654321\n"
     ]
    }
   ],
   "source": [
    "num_string =\"123456789\"\n",
    "#sub_string = num_string[0]\n",
    "# start is inclusive and stop is exclusive\n",
    "#sub_string =num_string[1:9]\n",
    "# [3:-3]\n",
    "# step is [ : :3 ] \n",
    "# to reverse [ -1: : -1]\n",
    "#sub_string= num_string[:9]\n",
    "sub_string =num_string[-1: :-1]\n",
    "print (sub_string)"
   ]
  },
  {
   "cell_type": "code",
   "execution_count": 18,
   "metadata": {},
   "outputs": [
    {
     "name": "stdout",
     "output_type": "stream",
     "text": [
      "child_data\n"
     ]
    }
   ],
   "source": [
    "filename = \"child_data.csv\"\n",
    "filename = filename [ :-4]\n",
    "print (filename)\n"
   ]
  }
 ],
 "metadata": {
  "kernelspec": {
   "display_name": "Python 3",
   "language": "python",
   "name": "python3"
  },
  "language_info": {
   "codemirror_mode": {
    "name": "ipython",
    "version": 3
   },
   "file_extension": ".py",
   "mimetype": "text/x-python",
   "name": "python",
   "nbconvert_exporter": "python",
   "pygments_lexer": "ipython3",
   "version": "3.10.13"
  }
 },
 "nbformat": 4,
 "nbformat_minor": 2
}
